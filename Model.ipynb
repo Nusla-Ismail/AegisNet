{
 "cells": [
  {
   "cell_type": "markdown",
   "id": "966e3b89",
   "metadata": {},
   "source": [
    "Data loading and preprocessing"
   ]
  },
  {
   "cell_type": "code",
   "execution_count": null,
   "id": "7bd41bd6",
   "metadata": {},
   "outputs": [],
   "source": [
    "import pandas as pd\n",
    "from sklearn.preprocessing import StandardScaler\n",
    "import warnings\n",
    "\n",
    "warnings.filterwarnings(\"ignore\") # stop warnings from cluttering output\n",
    " \n",
    "data = pd.read_csv('creditcard.csv') #csv->data frame\n",
    "def preprocess_data(df):\n",
    "    df = df.drop(columns=['Time'])  # Drop Time column\n",
    "    return df\n",
    "data = preprocess_data(data)\n",
    "scaler = StandardScaler()\n",
    "data.iloc[:, :-1] = scaler.fit_transform(data.iloc[:, :-1]) # normalize all features except the first and last"
   ]
  },
  {
   "cell_type": "markdown",
   "id": "c8d5ca8e",
   "metadata": {},
   "source": [
    "Bancing the class imbalance "
   ]
  },
  {
   "cell_type": "code",
   "execution_count": null,
   "id": "c141753e",
   "metadata": {},
   "outputs": [],
   "source": [
    "def balance_data(df):\n",
    "    minority_class = df[df['Class'] == 1] #  1:10 ratio to undersample majority class\n",
    "    majority_class = df[df['Class'] == 0].sample(n=len(minority_class) * 10, random_state=42) \n",
    "    balanced_df = pd.concat([minority_class, majority_class]).sample(frac=1, random_state=42)\n",
    "    return balanced_df\n",
    "\n",
    "data = balance_data(data)"
   ]
  },
  {
   "cell_type": "markdown",
   "id": "deae4c18",
   "metadata": {},
   "source": [
    "Creating Graphs using k-NN "
   ]
  },
  {
   "cell_type": "code",
   "execution_count": null,
   "id": "dc755032",
   "metadata": {},
   "outputs": [],
   "source": [
    "import torch\n",
    "import numpy as np\n",
    "from torch_geometric.data import Data\n",
    "from scipy.spatial import distance_matrix\n",
    "\n",
    "def create_graph_data(df, k=5):\n",
    "    features = df.drop(columns=['Class']).values # all except Class (v1-v28)\n",
    "    labels = df['Class'].values #class \n",
    "    num_nodes = len(df)\n",
    "    dist_matrix = distance_matrix(features, features)\n",
    "    edge_index = []\n",
    "    for i in range(num_nodes):\n",
    "        neighbors = np.argsort(dist_matrix[i])[1:k+1]  #selecting the nearest neighbor by distance \n",
    "        for n in neighbors:\n",
    "            edge_index.append([i, n])\n",
    "            edge_index.append([n, i])  #making the graph undirected  \n",
    "    edge_index = torch.tensor(edge_index, dtype=torch.long).t().contiguous() #adjusting shape\n",
    "    x = torch.tensor(features, dtype=torch.float32)\n",
    "    y = torch.tensor(labels, dtype=torch.long)\n",
    "    return Data(x=x, edge_index=edge_index, y=y) # returning the graph data object\n",
    "\n",
    "graph_data = create_graph_data(data)"
   ]
  },
  {
   "cell_type": "markdown",
   "id": "2d490cb3",
   "metadata": {},
   "source": [
    "Splitting Graphs into train and test"
   ]
  },
  {
   "cell_type": "code",
   "execution_count": null,
   "id": "96e2bd29",
   "metadata": {},
   "outputs": [],
   "source": [
    "from sklearn.model_selection import train_test_split\n",
    "def split_data(data, test_size=0.2):\n",
    "    num_nodes = data.x.shape[0]\n",
    "    train_idx, test_idx = train_test_split(np.arange(num_nodes), test_size=test_size, random_state=42, stratify=data.y.numpy()) #splitting data in a manner that fraud class is in both \n",
    "    train_mask = torch.zeros(num_nodes, dtype=torch.bool)\n",
    "    test_mask = torch.zeros(num_nodes, dtype=torch.bool)\n",
    "    train_mask[train_idx] = True  # doesnt belong in the split\n",
    "    test_mask[test_idx] = True # belongs in the split\n",
    "    data.train_mask = train_mask \n",
    "    data.test_mask = test_mask\n",
    "    return data\n",
    "\n",
    "graph_data = split_data(graph_data)"
   ]
  },
  {
   "cell_type": "markdown",
   "id": "a49a49c7",
   "metadata": {},
   "source": [
    "GAT model building"
   ]
  },
  {
   "cell_type": "code",
   "execution_count": null,
   "id": "853239df",
   "metadata": {},
   "outputs": [],
   "source": [
    "import torch\n",
    "import torch.nn.functional as F\n",
    "from torch_geometric.nn import GATConv\n",
    "\n",
    "class GAT_DGNN(torch.nn.Module):\n",
    "    def __init__(self, in_channels, out_channels, heads=8, dropout=0.3):\n",
    "        super(GAT_DGNN, self).__init__()\n",
    "        self.conv1 = GATConv(in_channels, 32, heads=heads, dropout=dropout)\n",
    "        self.conv2 = GATConv(32 * heads, 16, heads=4, dropout=dropout)\n",
    "        self.conv3 = GATConv(16 * 4, out_channels, heads=1, dropout=dropout)\n",
    "        self.bn1 = torch.nn.BatchNorm1d(32 * heads)\n",
    "        self.bn2 = torch.nn.BatchNorm1d(16 * 4)\n",
    "\n",
    "    def forward(self, x, edge_index):\n",
    "        x = F.elu(self.bn1(self.conv1(x, edge_index)))\n",
    "        x = F.elu(self.bn2(self.conv2(x, edge_index)))\n",
    "        x = self.conv3(x, edge_index)\n",
    "        return F.log_softmax(x, dim=1)"
   ]
  },
  {
   "cell_type": "markdown",
   "id": "91753965",
   "metadata": {},
   "source": [
    "Calculating class weights and adding loss function"
   ]
  },
  {
   "cell_type": "code",
   "execution_count": null,
   "id": "08aeca03",
   "metadata": {},
   "outputs": [],
   "source": [
    "from sklearn.utils.class_weight import compute_class_weight\n",
    "\n",
    "class_weights_np = compute_class_weight('balanced', classes=np.unique(graph_data.y.numpy()), y=graph_data.y.numpy())\n",
    "class_weights = torch.tensor(class_weights_np, dtype=torch.float32)\n",
    "criterion = torch.nn.CrossEntropyLoss(weight=class_weights)"
   ]
  },
  {
   "cell_type": "markdown",
   "id": "394703af",
   "metadata": {},
   "source": [
    "Function for dynamic edge embedding "
   ]
  },
  {
   "cell_type": "code",
   "execution_count": null,
   "id": "3a3dd512",
   "metadata": {},
   "outputs": [],
   "source": [
    "def update_graph_temporal(embeddings, k_dynamic=3, time_step=0):\n",
    "    num_nodes = embeddings.shape[0]\n",
    "    dist_matrix = distance_matrix(embeddings.detach().cpu().numpy(), embeddings.detach().cpu().numpy())\n",
    "\n",
    "    # Dynamically update edges\n",
    "    edge_index = []\n",
    "    for i in range(num_nodes):\n",
    "        neighbors = np.argsort(dist_matrix[i])[1:k_dynamic+1]\n",
    "        for n in neighbors:\n",
    "            if time_step % 10 == 0:  # Update graph every 10 epochs\n",
    "                edge_index.append([i, n])\n",
    "                edge_index.append([n, i])  # Make it bidirectional\n",
    "\n",
    "    edge_index = torch.tensor(edge_index, dtype=torch.long).t().contiguous()\n",
    "    return edge_index"
   ]
  },
  {
   "cell_type": "markdown",
   "id": "3a8a2a7f",
   "metadata": {},
   "source": [
    "Evaluation function with test validation"
   ]
  },
  {
   "cell_type": "code",
   "execution_count": null,
   "id": "e6fedd5f",
   "metadata": {},
   "outputs": [],
   "source": [
    "def evaluate(model, data):\n",
    "    model.eval()\n",
    "    out = model(data.x, data.edge_index)\n",
    "    pred = out.argmax(dim=1)\n",
    "    labels = data.y\n",
    "    correct = pred == labels\n",
    "    accuracy = correct.sum().item() / len(labels) # getting the validation accuracy\n",
    "\n",
    "    return accuracy"
   ]
  },
  {
   "cell_type": "markdown",
   "id": "41ab91ed",
   "metadata": {},
   "source": [
    "Training function"
   ]
  },
  {
   "cell_type": "code",
   "execution_count": null,
   "id": "f4214357",
   "metadata": {},
   "outputs": [],
   "source": [
    "def train_epoch(model, data, optimizer, criterion, k_dynamic, epoch, time_step):\n",
    "    model.train()\n",
    "    optimizer.zero_grad()\n",
    "    out = model(data.x, data.edge_index)\n",
    "    loss = criterion(out[data.train_mask], data.y[data.train_mask])\n",
    "    loss.backward()\n",
    "    optimizer.step()\n",
    "\n",
    "    # Temporal Graph Update every 10 epochs\n",
    "    if epoch % 10 == 0:\n",
    "        with torch.no_grad():\n",
    "            updated_edge_index = update_graph_temporal(out, k_dynamic=k_dynamic, time_step=time_step)\n",
    "            data.edge_index = updated_edge_index.to(data.x.device) # Ensure on the correct device\n",
    "    return loss.item()"
   ]
  },
  {
   "cell_type": "markdown",
   "id": "d0bebb1f",
   "metadata": {},
   "source": [
    "Hyper parameter tuning using optuna"
   ]
  },
  {
   "cell_type": "code",
   "execution_count": null,
   "id": "eb2f14ef",
   "metadata": {},
   "outputs": [
    {
     "name": "stderr",
     "output_type": "stream",
     "text": [
      "[I 2025-05-02 13:10:04,216] A new study created in memory with name: no-name-ae7e20b2-7191-4953-ae44-777b79ccf699\n"
     ]
    },
    {
     "name": "stdout",
     "output_type": "stream",
     "text": [
      "Selected Hyperparameters: lr=0.002353044770673387, dropout=0.4620578895447883, heads=8, k_dynamic=3\n",
      "Epoch 1: Loss = 0.6940, Validation Accuracy = 0.5780\n",
      "Epoch 2: Loss = 0.3134, Validation Accuracy = 0.7334\n",
      "Epoch 3: Loss = 0.2476, Validation Accuracy = 0.8474\n",
      "Epoch 4: Loss = 0.2234, Validation Accuracy = 0.9028\n",
      "Epoch 5: Loss = 0.2118, Validation Accuracy = 0.9224\n",
      "Epoch 6: Loss = 0.2149, Validation Accuracy = 0.9375\n",
      "Epoch 7: Loss = 0.2019, Validation Accuracy = 0.9462\n",
      "Epoch 8: Loss = 0.2049, Validation Accuracy = 0.9512\n",
      "Epoch 9: Loss = 0.1890, Validation Accuracy = 0.9557\n"
     ]
    },
    {
     "name": "stderr",
     "output_type": "stream",
     "text": [
      "[I 2025-05-02 13:10:09,247] Trial 0 finished with value: 0.95509977827051 and parameters: {'lr': 0.002353044770673387, 'dropout': 0.4620578895447883, 'heads': 8, 'k_dynamic': 3}. Best is trial 0 with value: 0.95509977827051.\n"
     ]
    },
    {
     "name": "stdout",
     "output_type": "stream",
     "text": [
      "Epoch 10: Loss = 0.1896, Validation Accuracy = 0.9551\n",
      "Selected Hyperparameters: lr=0.00123705806205841, dropout=0.10249058469085362, heads=10, k_dynamic=2\n",
      "Epoch 1: Loss = 1.2137, Validation Accuracy = 0.5127\n",
      "Epoch 2: Loss = 0.4659, Validation Accuracy = 0.5682\n",
      "Epoch 3: Loss = 0.3513, Validation Accuracy = 0.6783\n",
      "Epoch 4: Loss = 0.2943, Validation Accuracy = 0.7871\n",
      "Epoch 5: Loss = 0.2599, Validation Accuracy = 0.8555\n",
      "Epoch 6: Loss = 0.2335, Validation Accuracy = 0.8958\n",
      "Epoch 7: Loss = 0.2171, Validation Accuracy = 0.9226\n",
      "Epoch 8: Loss = 0.2123, Validation Accuracy = 0.9314\n",
      "Epoch 9: Loss = 0.2034, Validation Accuracy = 0.9429\n"
     ]
    },
    {
     "name": "stderr",
     "output_type": "stream",
     "text": [
      "[I 2025-05-02 13:10:15,809] Trial 1 finished with value: 0.9497413155949741 and parameters: {'lr': 0.00123705806205841, 'dropout': 0.10249058469085362, 'heads': 10, 'k_dynamic': 2}. Best is trial 0 with value: 0.95509977827051.\n"
     ]
    },
    {
     "name": "stdout",
     "output_type": "stream",
     "text": [
      "Epoch 10: Loss = 0.1941, Validation Accuracy = 0.9497\n",
      "Selected Hyperparameters: lr=0.00012663088238630083, dropout=0.14092743969182517, heads=7, k_dynamic=4\n",
      "Epoch 1: Loss = 0.7511, Validation Accuracy = 0.5434\n",
      "Epoch 2: Loss = 0.6811, Validation Accuracy = 0.5547\n",
      "Epoch 3: Loss = 0.6348, Validation Accuracy = 0.5623\n",
      "Epoch 4: Loss = 0.6061, Validation Accuracy = 0.5739\n",
      "Epoch 5: Loss = 0.5625, Validation Accuracy = 0.5861\n",
      "Epoch 6: Loss = 0.5179, Validation Accuracy = 0.5974\n",
      "Epoch 7: Loss = 0.5175, Validation Accuracy = 0.6070\n",
      "Epoch 8: Loss = 0.4866, Validation Accuracy = 0.6177\n",
      "Epoch 9: Loss = 0.4691, Validation Accuracy = 0.6284\n"
     ]
    },
    {
     "name": "stderr",
     "output_type": "stream",
     "text": [
      "[I 2025-05-02 13:10:21,316] Trial 2 finished with value: 0.6376570583887657 and parameters: {'lr': 0.00012663088238630083, 'dropout': 0.14092743969182517, 'heads': 7, 'k_dynamic': 4}. Best is trial 0 with value: 0.95509977827051.\n"
     ]
    },
    {
     "name": "stdout",
     "output_type": "stream",
     "text": [
      "Epoch 10: Loss = 0.4533, Validation Accuracy = 0.6377\n",
      "Selected Hyperparameters: lr=0.0018467004947614846, dropout=0.27999257426134105, heads=15, k_dynamic=2\n",
      "Epoch 1: Loss = 0.7566, Validation Accuracy = 0.5885\n",
      "Epoch 2: Loss = 0.2711, Validation Accuracy = 0.7502\n",
      "Epoch 3: Loss = 0.2168, Validation Accuracy = 0.8500\n",
      "Epoch 4: Loss = 0.1986, Validation Accuracy = 0.8932\n",
      "Epoch 5: Loss = 0.2010, Validation Accuracy = 0.9174\n",
      "Epoch 6: Loss = 0.1955, Validation Accuracy = 0.9263\n",
      "Epoch 7: Loss = 0.1909, Validation Accuracy = 0.9309\n",
      "Epoch 8: Loss = 0.1889, Validation Accuracy = 0.9396\n",
      "Epoch 9: Loss = 0.1854, Validation Accuracy = 0.9449\n"
     ]
    },
    {
     "name": "stderr",
     "output_type": "stream",
     "text": [
      "[I 2025-05-02 13:10:28,292] Trial 3 finished with value: 0.9480783444198079 and parameters: {'lr': 0.0018467004947614846, 'dropout': 0.27999257426134105, 'heads': 15, 'k_dynamic': 2}. Best is trial 0 with value: 0.95509977827051.\n"
     ]
    },
    {
     "name": "stdout",
     "output_type": "stream",
     "text": [
      "Epoch 10: Loss = 0.1887, Validation Accuracy = 0.9481\n",
      "Selected Hyperparameters: lr=0.0056325812030920165, dropout=0.4647770602809743, heads=13, k_dynamic=6\n",
      "Epoch 1: Loss = 1.0641, Validation Accuracy = 0.7236\n",
      "Epoch 2: Loss = 0.2216, Validation Accuracy = 0.8494\n",
      "Epoch 3: Loss = 0.2059, Validation Accuracy = 0.8854\n",
      "Epoch 4: Loss = 0.2072, Validation Accuracy = 0.9071\n",
      "Epoch 5: Loss = 0.1952, Validation Accuracy = 0.9215\n",
      "Epoch 6: Loss = 0.2041, Validation Accuracy = 0.9303\n",
      "Epoch 7: Loss = 0.1917, Validation Accuracy = 0.9377\n",
      "Epoch 8: Loss = 0.1971, Validation Accuracy = 0.9424\n",
      "Epoch 9: Loss = 0.1880, Validation Accuracy = 0.9442\n"
     ]
    },
    {
     "name": "stderr",
     "output_type": "stream",
     "text": [
      "[I 2025-05-02 13:10:34,971] Trial 4 finished with value: 0.9451219512195121 and parameters: {'lr': 0.0056325812030920165, 'dropout': 0.4647770602809743, 'heads': 13, 'k_dynamic': 6}. Best is trial 0 with value: 0.95509977827051.\n"
     ]
    },
    {
     "name": "stdout",
     "output_type": "stream",
     "text": [
      "Epoch 10: Loss = 0.1840, Validation Accuracy = 0.9451\n",
      "Selected Hyperparameters: lr=0.008855988013604113, dropout=0.1531659251227024, heads=9, k_dynamic=2\n",
      "Epoch 1: Loss = 0.8377, Validation Accuracy = 0.7482\n",
      "Epoch 2: Loss = 0.2287, Validation Accuracy = 0.8363\n",
      "Epoch 3: Loss = 0.2344, Validation Accuracy = 0.8708\n",
      "Epoch 4: Loss = 0.2171, Validation Accuracy = 0.9015\n",
      "Epoch 5: Loss = 0.1984, Validation Accuracy = 0.9231\n",
      "Epoch 6: Loss = 0.1939, Validation Accuracy = 0.9363\n",
      "Epoch 7: Loss = 0.1854, Validation Accuracy = 0.9366\n",
      "Epoch 8: Loss = 0.1858, Validation Accuracy = 0.9326\n",
      "Epoch 9: Loss = 0.1805, Validation Accuracy = 0.9294\n"
     ]
    },
    {
     "name": "stderr",
     "output_type": "stream",
     "text": [
      "[I 2025-05-02 13:10:40,552] Trial 5 finished with value: 0.9260901699926091 and parameters: {'lr': 0.008855988013604113, 'dropout': 0.1531659251227024, 'heads': 9, 'k_dynamic': 2}. Best is trial 0 with value: 0.95509977827051.\n"
     ]
    },
    {
     "name": "stdout",
     "output_type": "stream",
     "text": [
      "Epoch 10: Loss = 0.1786, Validation Accuracy = 0.9261\n",
      "Selected Hyperparameters: lr=0.00018496221373604074, dropout=0.2881111316120273, heads=15, k_dynamic=5\n",
      "Epoch 1: Loss = 0.5113, Validation Accuracy = 0.6166\n",
      "Epoch 2: Loss = 0.4371, Validation Accuracy = 0.6678\n",
      "Epoch 3: Loss = 0.4052, Validation Accuracy = 0.7162\n",
      "Epoch 4: Loss = 0.3413, Validation Accuracy = 0.7552\n",
      "Epoch 5: Loss = 0.3237, Validation Accuracy = 0.7884\n",
      "Epoch 6: Loss = 0.3058, Validation Accuracy = 0.8161\n",
      "Epoch 7: Loss = 0.2831, Validation Accuracy = 0.8387\n",
      "Epoch 8: Loss = 0.2684, Validation Accuracy = 0.8566\n",
      "Epoch 9: Loss = 0.2616, Validation Accuracy = 0.8756\n"
     ]
    },
    {
     "name": "stderr",
     "output_type": "stream",
     "text": [
      "[I 2025-05-02 13:10:47,655] Trial 6 finished with value: 0.8920916481892092 and parameters: {'lr': 0.00018496221373604074, 'dropout': 0.2881111316120273, 'heads': 15, 'k_dynamic': 5}. Best is trial 0 with value: 0.95509977827051.\n"
     ]
    },
    {
     "name": "stdout",
     "output_type": "stream",
     "text": [
      "Epoch 10: Loss = 0.2537, Validation Accuracy = 0.8921\n",
      "Selected Hyperparameters: lr=0.0013476206272549343, dropout=0.1099195597172718, heads=8, k_dynamic=4\n",
      "Epoch 1: Loss = 0.8194, Validation Accuracy = 0.5344\n",
      "Epoch 2: Loss = 0.4141, Validation Accuracy = 0.6561\n",
      "Epoch 3: Loss = 0.2828, Validation Accuracy = 0.7578\n",
      "Epoch 4: Loss = 0.2372, Validation Accuracy = 0.8346\n",
      "Epoch 5: Loss = 0.2198, Validation Accuracy = 0.8834\n",
      "Epoch 6: Loss = 0.2121, Validation Accuracy = 0.9052\n",
      "Epoch 7: Loss = 0.2025, Validation Accuracy = 0.9157\n",
      "Epoch 8: Loss = 0.2041, Validation Accuracy = 0.9248\n",
      "Epoch 9: Loss = 0.1963, Validation Accuracy = 0.9313\n"
     ]
    },
    {
     "name": "stderr",
     "output_type": "stream",
     "text": [
      "[I 2025-05-02 13:10:53,246] Trial 7 finished with value: 0.9392091648189209 and parameters: {'lr': 0.0013476206272549343, 'dropout': 0.1099195597172718, 'heads': 8, 'k_dynamic': 4}. Best is trial 0 with value: 0.95509977827051.\n"
     ]
    },
    {
     "name": "stdout",
     "output_type": "stream",
     "text": [
      "Epoch 10: Loss = 0.1950, Validation Accuracy = 0.9392\n",
      "Selected Hyperparameters: lr=0.0002586611199943502, dropout=0.17407267906220486, heads=15, k_dynamic=7\n",
      "Epoch 1: Loss = 0.6124, Validation Accuracy = 0.4678\n",
      "Epoch 2: Loss = 0.4772, Validation Accuracy = 0.5333\n",
      "Epoch 3: Loss = 0.3948, Validation Accuracy = 0.6079\n",
      "Epoch 4: Loss = 0.3408, Validation Accuracy = 0.6898\n",
      "Epoch 5: Loss = 0.3095, Validation Accuracy = 0.7616\n",
      "Epoch 6: Loss = 0.2852, Validation Accuracy = 0.8180\n",
      "Epoch 7: Loss = 0.2696, Validation Accuracy = 0.8677\n",
      "Epoch 8: Loss = 0.2537, Validation Accuracy = 0.8963\n",
      "Epoch 9: Loss = 0.2416, Validation Accuracy = 0.9176\n"
     ]
    },
    {
     "name": "stderr",
     "output_type": "stream",
     "text": [
      "[I 2025-05-02 13:10:59,906] Trial 8 finished with value: 0.9305247597930525 and parameters: {'lr': 0.0002586611199943502, 'dropout': 0.17407267906220486, 'heads': 15, 'k_dynamic': 7}. Best is trial 0 with value: 0.95509977827051.\n"
     ]
    },
    {
     "name": "stdout",
     "output_type": "stream",
     "text": [
      "Epoch 10: Loss = 0.2308, Validation Accuracy = 0.9305\n",
      "Selected Hyperparameters: lr=0.0006919440186852367, dropout=0.2009934551410719, heads=10, k_dynamic=4\n",
      "Epoch 1: Loss = 0.6114, Validation Accuracy = 0.6133\n",
      "Epoch 2: Loss = 0.4020, Validation Accuracy = 0.6633\n",
      "Epoch 3: Loss = 0.3426, Validation Accuracy = 0.7252\n",
      "Epoch 4: Loss = 0.3011, Validation Accuracy = 0.7870\n",
      "Epoch 5: Loss = 0.2760, Validation Accuracy = 0.8453\n",
      "Epoch 6: Loss = 0.2584, Validation Accuracy = 0.8810\n",
      "Epoch 7: Loss = 0.2504, Validation Accuracy = 0.9063\n",
      "Epoch 8: Loss = 0.2352, Validation Accuracy = 0.9259\n",
      "Epoch 9: Loss = 0.2246, Validation Accuracy = 0.9385\n"
     ]
    },
    {
     "name": "stderr",
     "output_type": "stream",
     "text": [
      "[I 2025-05-02 13:11:05,638] Trial 9 finished with value: 0.9460458240946046 and parameters: {'lr': 0.0006919440186852367, 'dropout': 0.2009934551410719, 'heads': 10, 'k_dynamic': 4}. Best is trial 0 with value: 0.95509977827051.\n"
     ]
    },
    {
     "name": "stdout",
     "output_type": "stream",
     "text": [
      "Epoch 10: Loss = 0.2190, Validation Accuracy = 0.9460\n",
      "Selected Hyperparameters: lr=0.00364947555122179, dropout=0.4833924032549652, heads=5, k_dynamic=3\n",
      "Epoch 1: Loss = 0.5399, Validation Accuracy = 0.5759\n",
      "Epoch 2: Loss = 0.2931, Validation Accuracy = 0.6973\n",
      "Epoch 3: Loss = 0.2428, Validation Accuracy = 0.8394\n",
      "Epoch 4: Loss = 0.2120, Validation Accuracy = 0.9054\n",
      "Epoch 5: Loss = 0.2138, Validation Accuracy = 0.9235\n",
      "Epoch 6: Loss = 0.2075, Validation Accuracy = 0.9329\n",
      "Epoch 7: Loss = 0.1996, Validation Accuracy = 0.9377\n",
      "Epoch 8: Loss = 0.2018, Validation Accuracy = 0.9388\n",
      "Epoch 9: Loss = 0.1906, Validation Accuracy = 0.9396\n"
     ]
    },
    {
     "name": "stderr",
     "output_type": "stream",
     "text": [
      "[I 2025-05-02 13:11:10,395] Trial 10 finished with value: 0.9410569105691057 and parameters: {'lr': 0.00364947555122179, 'dropout': 0.4833924032549652, 'heads': 5, 'k_dynamic': 3}. Best is trial 0 with value: 0.95509977827051.\n"
     ]
    },
    {
     "name": "stdout",
     "output_type": "stream",
     "text": [
      "Epoch 10: Loss = 0.1951, Validation Accuracy = 0.9411\n",
      "Selected Hyperparameters: lr=0.0005950700730624404, dropout=0.3985751338253354, heads=12, k_dynamic=2\n",
      "Epoch 1: Loss = 1.1852, Validation Accuracy = 0.6081\n",
      "Epoch 2: Loss = 0.5156, Validation Accuracy = 0.6641\n",
      "Epoch 3: Loss = 0.3794, Validation Accuracy = 0.7236\n",
      "Epoch 4: Loss = 0.3379, Validation Accuracy = 0.7812\n",
      "Epoch 5: Loss = 0.2915, Validation Accuracy = 0.8402\n",
      "Epoch 6: Loss = 0.2793, Validation Accuracy = 0.8797\n",
      "Epoch 7: Loss = 0.2656, Validation Accuracy = 0.9043\n",
      "Epoch 8: Loss = 0.2555, Validation Accuracy = 0.9244\n",
      "Epoch 9: Loss = 0.2740, Validation Accuracy = 0.9355\n"
     ]
    },
    {
     "name": "stderr",
     "output_type": "stream",
     "text": [
      "[I 2025-05-02 13:11:16,334] Trial 11 finished with value: 0.9414264597191426 and parameters: {'lr': 0.0005950700730624404, 'dropout': 0.3985751338253354, 'heads': 12, 'k_dynamic': 2}. Best is trial 0 with value: 0.95509977827051.\n"
     ]
    },
    {
     "name": "stdout",
     "output_type": "stream",
     "text": [
      "Epoch 10: Loss = 0.2411, Validation Accuracy = 0.9414\n",
      "Selected Hyperparameters: lr=0.002456213651454621, dropout=0.3588145488664909, heads=6, k_dynamic=3\n",
      "Epoch 1: Loss = 0.6750, Validation Accuracy = 0.6591\n",
      "Epoch 2: Loss = 0.3085, Validation Accuracy = 0.7705\n",
      "Epoch 3: Loss = 0.2399, Validation Accuracy = 0.8442\n",
      "Epoch 4: Loss = 0.2129, Validation Accuracy = 0.8817\n",
      "Epoch 5: Loss = 0.2068, Validation Accuracy = 0.9074\n",
      "Epoch 6: Loss = 0.2056, Validation Accuracy = 0.9215\n",
      "Epoch 7: Loss = 0.1961, Validation Accuracy = 0.9316\n",
      "Epoch 8: Loss = 0.1959, Validation Accuracy = 0.9401\n",
      "Epoch 9: Loss = 0.1910, Validation Accuracy = 0.9484\n"
     ]
    },
    {
     "name": "stderr",
     "output_type": "stream",
     "text": [
      "[I 2025-05-02 13:11:21,544] Trial 12 finished with value: 0.9526977087952697 and parameters: {'lr': 0.002456213651454621, 'dropout': 0.3588145488664909, 'heads': 6, 'k_dynamic': 3}. Best is trial 0 with value: 0.95509977827051.\n"
     ]
    },
    {
     "name": "stdout",
     "output_type": "stream",
     "text": [
      "Epoch 10: Loss = 0.1969, Validation Accuracy = 0.9527\n",
      "Selected Hyperparameters: lr=0.002497241172930496, dropout=0.36987600786810854, heads=4, k_dynamic=3\n",
      "Epoch 1: Loss = 1.2453, Validation Accuracy = 0.5357\n",
      "Epoch 2: Loss = 0.5074, Validation Accuracy = 0.6316\n",
      "Epoch 3: Loss = 0.3434, Validation Accuracy = 0.7382\n",
      "Epoch 4: Loss = 0.2897, Validation Accuracy = 0.8341\n",
      "Epoch 5: Loss = 0.2596, Validation Accuracy = 0.8784\n",
      "Epoch 6: Loss = 0.2440, Validation Accuracy = 0.9111\n",
      "Epoch 7: Loss = 0.2353, Validation Accuracy = 0.9257\n",
      "Epoch 8: Loss = 0.2168, Validation Accuracy = 0.9335\n",
      "Epoch 9: Loss = 0.2176, Validation Accuracy = 0.9411\n"
     ]
    },
    {
     "name": "stderr",
     "output_type": "stream",
     "text": [
      "[I 2025-05-02 13:11:26,006] Trial 13 finished with value: 0.9478935698447893 and parameters: {'lr': 0.002497241172930496, 'dropout': 0.36987600786810854, 'heads': 4, 'k_dynamic': 3}. Best is trial 0 with value: 0.95509977827051.\n"
     ]
    },
    {
     "name": "stdout",
     "output_type": "stream",
     "text": [
      "Epoch 10: Loss = 0.2119, Validation Accuracy = 0.9479\n",
      "Selected Hyperparameters: lr=0.0038527199039926573, dropout=0.38243773194790387, heads=6, k_dynamic=3\n",
      "Epoch 1: Loss = 0.6741, Validation Accuracy = 0.5837\n",
      "Epoch 2: Loss = 0.3250, Validation Accuracy = 0.7432\n",
      "Epoch 3: Loss = 0.2565, Validation Accuracy = 0.8466\n",
      "Epoch 4: Loss = 0.2355, Validation Accuracy = 0.9096\n",
      "Epoch 5: Loss = 0.2143, Validation Accuracy = 0.9372\n",
      "Epoch 6: Loss = 0.2025, Validation Accuracy = 0.9481\n",
      "Epoch 7: Loss = 0.2045, Validation Accuracy = 0.9525\n",
      "Epoch 8: Loss = 0.2045, Validation Accuracy = 0.9540\n",
      "Epoch 9: Loss = 0.2113, Validation Accuracy = 0.9562\n"
     ]
    },
    {
     "name": "stderr",
     "output_type": "stream",
     "text": [
      "[I 2025-05-02 13:11:30,967] Trial 14 finished with value: 0.9571322985957132 and parameters: {'lr': 0.0038527199039926573, 'dropout': 0.38243773194790387, 'heads': 6, 'k_dynamic': 3}. Best is trial 14 with value: 0.9571322985957132.\n"
     ]
    },
    {
     "name": "stdout",
     "output_type": "stream",
     "text": [
      "Epoch 10: Loss = 0.2042, Validation Accuracy = 0.9571\n",
      "Selected Hyperparameters: lr=0.005605495875759781, dropout=0.4260718788818529, heads=7, k_dynamic=5\n",
      "Epoch 1: Loss = 1.2796, Validation Accuracy = 0.6803\n",
      "Epoch 2: Loss = 0.2461, Validation Accuracy = 0.8437\n",
      "Epoch 3: Loss = 0.2117, Validation Accuracy = 0.8816\n",
      "Epoch 4: Loss = 0.2106, Validation Accuracy = 0.9039\n",
      "Epoch 5: Loss = 0.2014, Validation Accuracy = 0.9217\n",
      "Epoch 6: Loss = 0.2046, Validation Accuracy = 0.9307\n",
      "Epoch 7: Loss = 0.1911, Validation Accuracy = 0.9350\n",
      "Epoch 8: Loss = 0.1915, Validation Accuracy = 0.9416\n",
      "Epoch 9: Loss = 0.1890, Validation Accuracy = 0.9438\n"
     ]
    },
    {
     "name": "stderr",
     "output_type": "stream",
     "text": [
      "[I 2025-05-02 13:11:36,060] Trial 15 finished with value: 0.9449371766444937 and parameters: {'lr': 0.005605495875759781, 'dropout': 0.4260718788818529, 'heads': 7, 'k_dynamic': 5}. Best is trial 14 with value: 0.9571322985957132.\n"
     ]
    },
    {
     "name": "stdout",
     "output_type": "stream",
     "text": [
      "Epoch 10: Loss = 0.1966, Validation Accuracy = 0.9449\n",
      "Selected Hyperparameters: lr=0.009612513838939189, dropout=0.33341553028127086, heads=4, k_dynamic=3\n",
      "Epoch 1: Loss = 3.1200, Validation Accuracy = 0.6637\n",
      "Epoch 2: Loss = 0.3713, Validation Accuracy = 0.7446\n",
      "Epoch 3: Loss = 0.2197, Validation Accuracy = 0.8293\n",
      "Epoch 4: Loss = 0.2073, Validation Accuracy = 0.8847\n",
      "Epoch 5: Loss = 0.2085, Validation Accuracy = 0.9141\n",
      "Epoch 6: Loss = 0.2052, Validation Accuracy = 0.9218\n",
      "Epoch 7: Loss = 0.2027, Validation Accuracy = 0.9272\n",
      "Epoch 8: Loss = 0.2042, Validation Accuracy = 0.9316\n",
      "Epoch 9: Loss = 0.1982, Validation Accuracy = 0.9366\n"
     ]
    },
    {
     "name": "stderr",
     "output_type": "stream",
     "text": [
      "[I 2025-05-02 13:11:40,818] Trial 16 finished with value: 0.9393939393939394 and parameters: {'lr': 0.009612513838939189, 'dropout': 0.33341553028127086, 'heads': 4, 'k_dynamic': 3}. Best is trial 14 with value: 0.9571322985957132.\n"
     ]
    },
    {
     "name": "stdout",
     "output_type": "stream",
     "text": [
      "Epoch 10: Loss = 0.1943, Validation Accuracy = 0.9394\n",
      "Selected Hyperparameters: lr=0.0040292186442958755, dropout=0.43622410580936966, heads=8, k_dynamic=3\n",
      "Epoch 1: Loss = 1.5367, Validation Accuracy = 0.6029\n",
      "Epoch 2: Loss = 0.3296, Validation Accuracy = 0.7256\n",
      "Epoch 3: Loss = 0.2448, Validation Accuracy = 0.8300\n",
      "Epoch 4: Loss = 0.2328, Validation Accuracy = 0.8882\n",
      "Epoch 5: Loss = 0.2215, Validation Accuracy = 0.9150\n",
      "Epoch 6: Loss = 0.2279, Validation Accuracy = 0.9302\n",
      "Epoch 7: Loss = 0.2152, Validation Accuracy = 0.9394\n",
      "Epoch 8: Loss = 0.2182, Validation Accuracy = 0.9449\n",
      "Epoch 9: Loss = 0.2198, Validation Accuracy = 0.9505\n"
     ]
    },
    {
     "name": "stderr",
     "output_type": "stream",
     "text": [
      "[I 2025-05-02 13:11:46,247] Trial 17 finished with value: 0.9536215816703622 and parameters: {'lr': 0.0040292186442958755, 'dropout': 0.43622410580936966, 'heads': 8, 'k_dynamic': 3}. Best is trial 14 with value: 0.9571322985957132.\n"
     ]
    },
    {
     "name": "stdout",
     "output_type": "stream",
     "text": [
      "Epoch 10: Loss = 0.2246, Validation Accuracy = 0.9536\n",
      "Selected Hyperparameters: lr=0.0006835012134924999, dropout=0.24409544479241876, heads=12, k_dynamic=4\n",
      "Epoch 1: Loss = 0.6826, Validation Accuracy = 0.5401\n",
      "Epoch 2: Loss = 0.4629, Validation Accuracy = 0.5926\n",
      "Epoch 3: Loss = 0.3716, Validation Accuracy = 0.6663\n",
      "Epoch 4: Loss = 0.3198, Validation Accuracy = 0.7764\n",
      "Epoch 5: Loss = 0.2810, Validation Accuracy = 0.8721\n",
      "Epoch 6: Loss = 0.2553, Validation Accuracy = 0.9259\n",
      "Epoch 7: Loss = 0.2456, Validation Accuracy = 0.9455\n",
      "Epoch 8: Loss = 0.2258, Validation Accuracy = 0.9531\n",
      "Epoch 9: Loss = 0.2183, Validation Accuracy = 0.9582\n"
     ]
    },
    {
     "name": "stderr",
     "output_type": "stream",
     "text": [
      "[I 2025-05-02 13:11:52,429] Trial 18 finished with value: 0.9626755358462675 and parameters: {'lr': 0.0006835012134924999, 'dropout': 0.24409544479241876, 'heads': 12, 'k_dynamic': 4}. Best is trial 18 with value: 0.9626755358462675.\n"
     ]
    },
    {
     "name": "stdout",
     "output_type": "stream",
     "text": [
      "Epoch 10: Loss = 0.2139, Validation Accuracy = 0.9627\n",
      "Selected Hyperparameters: lr=0.0004840559475116708, dropout=0.2407979481491781, heads=12, k_dynamic=5\n",
      "Epoch 1: Loss = 1.6794, Validation Accuracy = 0.6048\n",
      "Epoch 2: Loss = 0.9233, Validation Accuracy = 0.6292\n",
      "Epoch 3: Loss = 0.5506, Validation Accuracy = 0.6547\n",
      "Epoch 4: Loss = 0.4392, Validation Accuracy = 0.6955\n",
      "Epoch 5: Loss = 0.3301, Validation Accuracy = 0.7380\n",
      "Epoch 6: Loss = 0.2946, Validation Accuracy = 0.7786\n",
      "Epoch 7: Loss = 0.2536, Validation Accuracy = 0.8197\n",
      "Epoch 8: Loss = 0.2368, Validation Accuracy = 0.8583\n",
      "Epoch 9: Loss = 0.2222, Validation Accuracy = 0.8871\n"
     ]
    },
    {
     "name": "stderr",
     "output_type": "stream",
     "text": [
      "[I 2025-05-02 13:11:58,503] Trial 19 finished with value: 0.9079822616407982 and parameters: {'lr': 0.0004840559475116708, 'dropout': 0.2407979481491781, 'heads': 12, 'k_dynamic': 5}. Best is trial 18 with value: 0.9626755358462675.\n"
     ]
    },
    {
     "name": "stdout",
     "output_type": "stream",
     "text": [
      "Epoch 10: Loss = 0.2272, Validation Accuracy = 0.9080\n"
     ]
    }
   ],
   "source": [
    "from torch_geometric.data import Data\n",
    "from torch_geometric.loader import DataLoader\n",
    "import optuna\n",
    "\n",
    "def objective(trial):\n",
    "    lr = trial.suggest_loguniform('lr', 1e-4, 1e-2) \n",
    "    dropout = trial.suggest_uniform('dropout', 0.1, 0.5) \n",
    "    heads = trial.suggest_int('heads', 4, 16)\n",
    "    k_dynamic = trial.suggest_int('k_dynamic', 2, 7)  # Hyperparameter for dynamic k\n",
    "\n",
    "    print(f\"Selected Hyperparameters: lr={lr}, dropout={dropout}, heads={heads}, k_dynamic={k_dynamic}\")\n",
    "\n",
    "    model = GAT_DGNN(in_channels=graph_data.x.shape[1], out_channels=2, heads=heads, dropout=dropout)\n",
    "    optimizer = torch.optim.Adam(model.parameters(), lr=lr, weight_decay=5e-4)\n",
    "    device = torch.device('cuda' if torch.cuda.is_available() else 'cpu')\n",
    "    model.to(device)\n",
    "    graph_data.to(device)\n",
    "    train_loader = DataLoader([graph_data], batch_size=1024, shuffle=True)\n",
    "\n",
    "    current_edge_index = graph_data.edge_index.to(device)\n",
    "    for epoch in range(10):\n",
    "        loss = train_epoch(model, graph_data, optimizer, criterion, k_dynamic, epoch + 1, epoch)\n",
    "        graph_data.edge_index = current_edge_index.cpu()  \n",
    "\n",
    "        # Evaluate on validation data after each epoch\n",
    "        val_accuracy = evaluate(model, graph_data)\n",
    "        print(f\"Epoch {epoch + 1}: Loss = {loss:.4f}, Validation Accuracy = {val_accuracy:.4f}\")\n",
    "\n",
    "    metrics = evaluate(model, graph_data)\n",
    "    return metrics\n",
    "\n",
    "# Run Optuna study\n",
    "study = optuna.create_study(direction='maximize')\n",
    "study.optimize(objective, n_trials=20)"
   ]
  },
  {
   "cell_type": "markdown",
   "id": "650cab84",
   "metadata": {},
   "source": [
    "Final training"
   ]
  },
  {
   "cell_type": "code",
   "execution_count": null,
   "id": "3d9c4816",
   "metadata": {},
   "outputs": [
    {
     "name": "stdout",
     "output_type": "stream",
     "text": [
      "Best Hyperparameters: {'lr': 0.0006835012134924999, 'dropout': 0.24409544479241876, 'heads': 12, 'k_dynamic': 4}\n",
      "Epoch: 10, Loss: 0.1977, Validation Accuracy: 0.9531\n",
      "Epoch: 20, Loss: 0.1942, Validation Accuracy: 0.9642\n",
      "Epoch: 30, Loss: 0.1832, Validation Accuracy: 0.9686\n",
      "Epoch: 40, Loss: 0.1809, Validation Accuracy: 0.9619\n",
      "Epoch: 50, Loss: 0.1761, Validation Accuracy: 0.9647\n",
      "Epoch: 60, Loss: 0.1778, Validation Accuracy: 0.9693\n",
      "Epoch: 70, Loss: 0.1771, Validation Accuracy: 0.9690\n",
      "Epoch: 80, Loss: 0.1753, Validation Accuracy: 0.9608\n",
      "Epoch: 90, Loss: 0.1762, Validation Accuracy: 0.9619\n",
      "Epoch: 100, Loss: 0.1736, Validation Accuracy: 0.9621\n"
     ]
    }
   ],
   "source": [
    "# Train final model with best parameters\n",
    "best_params = study.best_params\n",
    "print(f\"Best Hyperparameters: {best_params}\")\n",
    "final_k_dynamic = best_params.pop('k_dynamic', 5)  # Get k_dynamic and remove from best_params\n",
    "\n",
    "device = torch.device('cuda' if torch.cuda.is_available() else 'cpu')\n",
    "model = GAT_DGNN(in_channels=graph_data.x.shape[1], out_channels=2, heads=best_params['heads'], dropout=best_params['dropout']).to(device)\n",
    "optimizer = torch.optim.Adam(model.parameters(), lr=best_params['lr'], weight_decay=5e-4)\n",
    "graph_data = graph_data.to(device)\n",
    "train_loader = DataLoader([graph_data], batch_size=1024, shuffle=True)\n",
    "\n",
    "# Train the model with temporal updates\n",
    "current_edge_index = graph_data.edge_index\n",
    "for epoch in range(1, 101):\n",
    "    loss = train_epoch(model, graph_data, optimizer, criterion, final_k_dynamic, epoch, epoch)\n",
    "    # No need to move edge_index back to CPU here as train_epoch handles device placement\n",
    "\n",
    "    if epoch % 10 == 0:\n",
    "        val_accuracy = evaluate(model, graph_data)\n",
    "        print(f\"Epoch: {epoch}, Loss: {loss:.4f}, Validation Accuracy: {val_accuracy:.4f}\")"
   ]
  },
  {
   "cell_type": "markdown",
   "id": "d6a1d999",
   "metadata": {},
   "source": [
    "Saving the model"
   ]
  },
  {
   "cell_type": "code",
   "execution_count": null,
   "id": "38329ab6",
   "metadata": {},
   "outputs": [
    {
     "name": "stdout",
     "output_type": "stream",
     "text": [
      "Test Accuracy: 0.9621\n"
     ]
    }
   ],
   "source": [
    "# Evaluate final model on the test set\n",
    "test_accuracy = evaluate(model, graph_data)\n",
    "print(f\"Test Accuracy: {test_accuracy:.4f}\")\n",
    "\n",
    "# Save model\n",
    "torch.save(model.state_dict(), 'gat_dynamic_temporal_fraud_model.pth')"
   ]
  },
  {
   "cell_type": "markdown",
   "id": "656484d9",
   "metadata": {},
   "source": [
    "Evaluation and visualization"
   ]
  },
  {
   "cell_type": "code",
   "execution_count": null,
   "id": "9e03eba4",
   "metadata": {},
   "outputs": [],
   "source": [
    "from sklearn.metrics import (\n",
    "    recall_score,\n",
    "    accuracy_score,\n",
    "    precision_score,\n",
    "    f1_score,\n",
    "    roc_auc_score,\n",
    "    average_precision_score,\n",
    "    confusion_matrix,\n",
    "    roc_curve,\n",
    "    precision_recall_curve\n",
    ")\n",
    "\n",
    "import matplotlib.pyplot as plt\n",
    "import seaborn as sns\n",
    "\n",
    "# Define the test function for dynamic graphs\n",
    "def test_dynamic(model, graph_list):\n",
    "    model.eval()\n",
    "    all_y_true = []\n",
    "    all_y_pred = []\n",
    "    all_y_prob = []\n",
    "    with torch.no_grad():\n",
    "        for graph in graph_list:\n",
    "            out = model(graph.x, graph.edge_index)\n",
    "            pred = out.argmax(dim=1)\n",
    "            all_y_true.extend(graph.y.cpu().numpy())\n",
    "            all_y_pred.extend(pred.cpu().numpy())\n",
    "            all_y_prob.extend(out.cpu().numpy()[:, 1])\n",
    "\n",
    "    y_true = np.array(all_y_true)\n",
    "    y_pred = np.array(all_y_pred)\n",
    "    y_prob = np.array(all_y_prob)\n",
    "\n",
    "    return {\n",
    "        'recall': recall_score(y_true, y_pred),\n",
    "        'precision': precision_score(y_true, y_pred),\n",
    "        'f1': f1_score(y_true, y_pred),\n",
    "        'accuracy': accuracy_score(y_true, y_pred),\n",
    "        'roc_auc': roc_auc_score(y_true, y_prob),\n",
    "        'auc_pr': average_precision_score(y_true, y_prob),\n",
    "        'confusion_matrix': confusion_matrix(y_true, y_pred),\n",
    "        'y_true': y_true,\n",
    "        'y_pred': y_pred,\n",
    "        'y_prob': y_prob\n",
    "    }\n",
    "\n",
    "# Plot ROC curve\n",
    "def plot_roc_curve(fpr, tpr, auc):\n",
    "    plt.figure(figsize=(8, 6))\n",
    "    plt.plot(fpr, tpr, color='green', label=f'ROC curve (AUC = {auc:.2f})')\n",
    "    plt.plot([0, 1], [0, 1], color='gray', linestyle='--')\n",
    "    plt.title('Receiver Operating Characteristic (ROC) Curve')\n",
    "    plt.xlabel('False Positive Rate')\n",
    "    plt.ylabel('True Positive Rate')\n",
    "    plt.legend(loc='lower right')\n",
    "    plt.show()\n",
    "\n",
    "# Plot PR curve\n",
    "def plot_pr_curve(precision, recall, auc_pr):\n",
    "    plt.figure(figsize=(8, 6))\n",
    "    plt.plot(recall, precision, color='red', label=f'Precision-Recall curve (AUC = {auc_pr:.2f})')\n",
    "    plt.title('Precision-Recall Curve')\n",
    "    plt.xlabel('Recall')\n",
    "    plt.ylabel('Precision')\n",
    "    plt.legend(loc='lower left')\n",
    "    plt.show()\n",
    "\n",
    "# Plot Confusion Matrix\n",
    "def plot_confusion_matrix(conf_matrix):\n",
    "    plt.figure(figsize=(6, 6))\n",
    "    sns.heatmap(conf_matrix, annot=True, fmt='d', cmap='Greens',\n",
    "                xticklabels=['Non-Fraud', 'Fraud'],\n",
    "                yticklabels=['Non-Fraud', 'Fraud'])\n",
    "    plt.title('Confusion Matrix')\n",
    "    plt.xlabel('Predicted Label')\n",
    "    plt.ylabel('True Label')\n",
    "    plt.show()\n"
   ]
  },
  {
   "cell_type": "code",
   "execution_count": null,
   "id": "e85f244e",
   "metadata": {},
   "outputs": [
    {
     "name": "stdout",
     "output_type": "stream",
     "text": [
      "Evaluation Metrics:\n",
      "Accuracy:  0.9621\n",
      "Precision: 0.7349\n",
      "Recall:    0.9126\n",
      "F1 Score:  0.8141\n",
      "ROC AUC:   0.9815\n",
      "AUC PR:    0.9373\n"
     ]
    },
    {
     "data": {
      "image/png": "[encoded data removed]",
      "text/plain": [
       "<Figure size 800x600 with 1 Axes>"
      ]
     },
     "metadata": {},
     "output_type": "display_data"
    },
    {
     "data": {
      "image/png": "[encoded data removed]",
      "text/plain": [
       "<Figure size 800x600 with 1 Axes>"
      ]
     },
     "metadata": {},
     "output_type": "display_data"
    },
    {
     "data": {
      "image/png": "[encoded data removed]",
      "text/plain": [
       "<Figure size 600x600 with 2 Axes>"
      ]
     },
     "metadata": {},
     "output_type": "display_data"
    }
   ],
   "source": [
    "\n",
    "graph_list = [graph_data]\n",
    "\n",
    "# Get evaluation metrics\n",
    "eval_results = test_dynamic(model, graph_list)\n",
    "\n",
    "# Print evaluation metrics\n",
    "print(\"Evaluation Metrics:\")\n",
    "print(f\"Accuracy:  {eval_results['accuracy']:.4f}\")\n",
    "print(f\"Precision: {eval_results['precision']:.4f}\")\n",
    "print(f\"Recall:    {eval_results['recall']:.4f}\")\n",
    "print(f\"F1 Score:  {eval_results['f1']:.4f}\")\n",
    "print(f\"ROC AUC:   {eval_results['roc_auc']:.4f}\")\n",
    "print(f\"AUC PR:    {eval_results['auc_pr']:.4f}\")\n",
    "\n",
    "# Plot ROC and PR curves\n",
    "fpr, tpr, _ = roc_curve(eval_results['y_true'], eval_results['y_prob'])\n",
    "plot_roc_curve(fpr, tpr, eval_results['roc_auc'])\n",
    "\n",
    "precision, recall, _ = precision_recall_curve(eval_results['y_true'], eval_results['y_prob'])\n",
    "plot_pr_curve(precision, recall, eval_results['auc_pr'])\n",
    "\n",
    "# Plot Confusion Matrix\n",
    "plot_confusion_matrix(eval_results['confusion_matrix'])\n"
   ]
  }
 ],
 "metadata": {
  "kernelspec": {
   "display_name": "Python 3",
   "language": "python",
   "name": "python3"
  },
  "language_info": {
   "codemirror_mode": {
    "name": "ipython",
    "version": 3
   },
   "file_extension": ".py",
   "mimetype": "text/x-python",
   "name": "python",
   "nbconvert_exporter": "python",
   "pygments_lexer": "ipython3",
   "version": "3.12.3"
  }
 },
 "nbformat": 4,
 "nbformat_minor": 5
}
